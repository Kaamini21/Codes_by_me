{
  "cells": [
    {
      "cell_type": "markdown",
      "metadata": {
        "id": "xpAuMVCwfWs8"
      },
      "source": [
        "\n",
        "LSTM"
      ]
    },
    {
      "cell_type": "markdown",
      "metadata": {
        "id": "nxJfRe4bfYVA"
      },
      "source": [
        "## Part 1 - Data Preprocessing"
      ]
    },
    {
      "cell_type": "markdown",
      "metadata": {
        "id": "ir9zwETrfbrp"
      },
      "source": [
        "### Importing the libraries"
      ]
    },
    {
      "cell_type": "code",
      "execution_count": null,
      "metadata": {
        "id": "ZT1f24vHffuf"
      },
      "outputs": [],
      "source": [
        "import numpy as np\n",
        "import matplotlib.pyplot as plt\n",
        "import pandas as pd\n",
        "import sklearn\n"
      ]
    },
    {
      "cell_type": "markdown",
      "metadata": {
        "id": "nQ47JAxrgmaL"
      },
      "source": [
        "### Importing the training set"
      ]
    },
    {
      "cell_type": "code",
      "source": [
        "dataset_test = pd.read_csv('/content/cu_test.csv')\n",
        "test = dataset_test.sample(frac=1)\n",
        "print(test)\n",
        "dataset_train = pd.read_csv('/content/cu_Train.csv')\n",
        "df = dataset_train.sample(frac=1)\n",
        "print(df)"
      ],
      "metadata": {
        "colab": {
          "base_uri": "https://localhost:8080/"
        },
        "id": "oig9IMaNi9DL",
        "outputId": "52a342bb-e1f9-4ddb-c817-fd89a3368cd0"
      },
      "execution_count": null,
      "outputs": [
        {
          "output_type": "stream",
          "name": "stdout",
          "text": [
            "       OID  LONGITUDE   LATITUDE       CU\n",
            "1786  1786  74.577075  28.621447   42.000\n",
            "1807  1807  74.802111  28.634389   40.000\n",
            "1521  1521  74.964420  28.457540   73.993\n",
            "376    376  74.279556  27.634139   40.000\n",
            "544    544  75.631867  27.743644  128.000\n",
            "...    ...        ...        ...      ...\n",
            "481    481  74.342861  27.691917   42.000\n",
            "187    187  74.402972  27.486639   26.000\n",
            "1000  1000  75.250000  28.189500   18.437\n",
            "1858  1858  74.720825  28.673947   44.000\n",
            "1168  1168  74.712222  28.289639   47.000\n",
            "\n",
            "[1986 rows x 4 columns]\n",
            "       FID  LONGITUDE   LATITUDE      CU  gridcode\n",
            "1184  1185  74.153175  27.545584   3.000         0\n",
            "2739  2740  74.261100  27.974200   3.000         0\n",
            "2854  2855  75.280502  27.993635  13.432         0\n",
            "231    232  75.010101  27.313169   7.000         0\n",
            "2416  2417  74.923556  27.897806  11.000         0\n",
            "...    ...        ...        ...     ...       ...\n",
            "3229  3230  74.076919  28.115250   8.000         0\n",
            "1953  1954  75.300735  27.777071   9.000         0\n",
            "2307  2308  75.030583  27.868083   8.000         0\n",
            "888    889  74.646667  27.464111   6.000         0\n",
            "821    822  74.037051  27.454906   2.000         0\n",
            "\n",
            "[4566 rows x 5 columns]\n"
          ]
        }
      ]
    },
    {
      "cell_type": "code",
      "source": [
        "test_set = test.iloc[:, 3].values\n",
        "test.info()\n",
        "test_set.shape"
      ],
      "metadata": {
        "colab": {
          "base_uri": "https://localhost:8080/"
        },
        "id": "KgA9Aag7R0zA",
        "outputId": "59216761-5a15-440c-c964-8fa6b174c731"
      },
      "execution_count": null,
      "outputs": [
        {
          "output_type": "stream",
          "name": "stdout",
          "text": [
            "<class 'pandas.core.frame.DataFrame'>\n",
            "Index: 1986 entries, 1786 to 1168\n",
            "Data columns (total 4 columns):\n",
            " #   Column     Non-Null Count  Dtype  \n",
            "---  ------     --------------  -----  \n",
            " 0   OID        1986 non-null   int64  \n",
            " 1   LONGITUDE  1986 non-null   float64\n",
            " 2   LATITUDE   1986 non-null   float64\n",
            " 3   CU         1986 non-null   float64\n",
            "dtypes: float64(3), int64(1)\n",
            "memory usage: 77.6 KB\n"
          ]
        },
        {
          "output_type": "execute_result",
          "data": {
            "text/plain": [
              "(1986,)"
            ]
          },
          "metadata": {},
          "execution_count": 40
        }
      ]
    },
    {
      "cell_type": "code",
      "source": [
        "\n",
        "\n",
        "training_set = df.iloc[:, 3:].values\n",
        "df.info()\n",
        "training_set.shape"
      ],
      "metadata": {
        "colab": {
          "base_uri": "https://localhost:8080/"
        },
        "id": "DVVeG3LNjNbV",
        "outputId": "a19616b1-817e-441d-fe28-01c5424f459c"
      },
      "execution_count": null,
      "outputs": [
        {
          "output_type": "stream",
          "name": "stdout",
          "text": [
            "<class 'pandas.core.frame.DataFrame'>\n",
            "Index: 4566 entries, 1184 to 821\n",
            "Data columns (total 5 columns):\n",
            " #   Column     Non-Null Count  Dtype  \n",
            "---  ------     --------------  -----  \n",
            " 0   FID        4566 non-null   int64  \n",
            " 1   LONGITUDE  4566 non-null   float64\n",
            " 2   LATITUDE   4566 non-null   float64\n",
            " 3   CU         4566 non-null   float64\n",
            " 4   gridcode   4566 non-null   int64  \n",
            "dtypes: float64(3), int64(2)\n",
            "memory usage: 214.0 KB\n"
          ]
        },
        {
          "output_type": "execute_result",
          "data": {
            "text/plain": [
              "(4566, 2)"
            ]
          },
          "metadata": {},
          "execution_count": 41
        }
      ]
    },
    {
      "cell_type": "markdown",
      "metadata": {
        "id": "HT8_2UJegtG5"
      },
      "source": [
        "### Feature Scaling"
      ]
    },
    {
      "cell_type": "code",
      "execution_count": null,
      "metadata": {
        "colab": {
          "base_uri": "https://localhost:8080/"
        },
        "id": "OTrF2kR7gx9x",
        "outputId": "720cf257-c8f9-46ae-e117-f0b3c1bb961b"
      },
      "outputs": [
        {
          "output_type": "execute_result",
          "data": {
            "text/plain": [
              "(4566, 2)"
            ]
          },
          "metadata": {},
          "execution_count": 42
        }
      ],
      "source": [
        "from sklearn.preprocessing import MinMaxScaler\n",
        "sc = MinMaxScaler(feature_range = (0, 1))\n",
        "training_set_scaled = sc.fit_transform(training_set)\n",
        "training_set_scaled.shape\n"
      ]
    },
    {
      "cell_type": "code",
      "source": [
        "test_set_reshaped = np.array(test_set).reshape(-1, 1)\n",
        "fc = MinMaxScaler(feature_range = (0, 1))\n",
        "test_set_scaled = fc.fit_transform(test_set_reshaped)\n",
        "test_set_scaled.shape"
      ],
      "metadata": {
        "id": "f38BPwqzRpyw"
      },
      "execution_count": null,
      "outputs": []
    },
    {
      "cell_type": "markdown",
      "metadata": {
        "id": "JyYgYocqhNUg"
      },
      "source": [
        "### Creating a data structure with 60 timesteps and 1 output"
      ]
    },
    {
      "cell_type": "markdown",
      "metadata": {
        "id": "ckOl4C-AlnNO"
      },
      "source": [
        "60 timestamp means the RNN is going to look at the 60 stock prices before time T, i.e., stock prices between 60 days before time T. Based on the trends it is capturing these 60 previous timestamps and it will try to predict next output."
      ]
    },
    {
      "cell_type": "code",
      "execution_count": null,
      "metadata": {
        "colab": {
          "base_uri": "https://localhost:8080/"
        },
        "id": "iofU21B0i6ST",
        "outputId": "5a14626a-fe86-4b8b-b1ef-9a6de4a25fd5"
      },
      "outputs": [
        {
          "output_type": "execute_result",
          "data": {
            "text/plain": [
              "(4506, 60)"
            ]
          },
          "metadata": {},
          "execution_count": 43
        }
      ],
      "source": [
        "X_train = []\n",
        "y_train = []\n",
        "for i in range(60, 4566):\n",
        "    X_train.append(training_set_scaled[i-60:i, 0])\n",
        "    y_train.append(training_set_scaled[i, 1])\n",
        "X_train, y_train = np.array(X_train), np.array(y_train)\n",
        "X_train.shape\n",
        "\n",
        "#y_train.shape\n",
        "#len(y_train)\n",
        "#len(X_train)\n"
      ]
    },
    {
      "cell_type": "code",
      "source": [
        "X_test = []\n",
        "for i in range(60, 1986):\n",
        "    X_test.append(test_set_scaled[i-60:i, 0])\n",
        "Y_test = np.array(X_test)\n",
        "Y_test.shape"
      ],
      "metadata": {
        "id": "tZ-dXYd2Rird"
      },
      "execution_count": null,
      "outputs": []
    },
    {
      "cell_type": "markdown",
      "metadata": {
        "id": "MEOSCZHplnNO"
      },
      "source": [
        "For each financial day, X_train will contain 60 previous stock prices and y_train contain stock price next financial day. In X_train, we are going to append 60 stock prices before ith financial day, and 0 is the column of index in training_set_scaled array.\n",
        "Later X_train and y_train are made numpy array as that can be accepted as RNN"
      ]
    },
    {
      "cell_type": "markdown",
      "metadata": {
        "id": "D8yaN7Zvi95l"
      },
      "source": [
        "### Reshaping"
      ]
    },
    {
      "cell_type": "code",
      "execution_count": null,
      "metadata": {
        "colab": {
          "base_uri": "https://localhost:8080/"
        },
        "id": "FOXqJHmNjBkz",
        "outputId": "82174b83-1307-4a9f-fbc1-7401247c6220"
      },
      "outputs": [
        {
          "output_type": "execute_result",
          "data": {
            "text/plain": [
              "(4506, 60, 1)"
            ]
          },
          "metadata": {},
          "execution_count": 44
        }
      ],
      "source": [
        "trainifyx = np.reshape(X_train, (X_train.shape[0], X_train.shape[1], 1))\n",
        "trainifyx.shape\n",
        "#X_train.shape[1]\n",
        "#X_train.shape[0]\n"
      ]
    },
    {
      "cell_type": "code",
      "source": [
        "testingy = np.reshape(Y_test, (Y_test.shape[0], Y_test.shape[1], 1))\n",
        "testingy.shape"
      ],
      "metadata": {
        "id": "y4Rx8S7yRdlD"
      },
      "execution_count": null,
      "outputs": []
    },
    {
      "cell_type": "markdown",
      "metadata": {
        "id": "ZRRSOJeVjEWV"
      },
      "source": [
        "## Part 2 - Building and Training the RNN"
      ]
    },
    {
      "cell_type": "markdown",
      "metadata": {
        "id": "k4XV88JMjHXG"
      },
      "source": [
        "### Importing the Keras libraries and packages"
      ]
    },
    {
      "cell_type": "code",
      "source": [
        "!pip install tensorflow"
      ],
      "metadata": {
        "colab": {
          "base_uri": "https://localhost:8080/"
        },
        "id": "LQKKP-sHQgax",
        "outputId": "6a3370aa-2927-496a-acf5-da459c63c200"
      },
      "execution_count": null,
      "outputs": [
        {
          "output_type": "stream",
          "name": "stdout",
          "text": [
            "Requirement already satisfied: tensorflow in /usr/local/lib/python3.10/dist-packages (2.15.0)\n",
            "Requirement already satisfied: absl-py>=1.0.0 in /usr/local/lib/python3.10/dist-packages (from tensorflow) (1.4.0)\n",
            "Requirement already satisfied: astunparse>=1.6.0 in /usr/local/lib/python3.10/dist-packages (from tensorflow) (1.6.3)\n",
            "Requirement already satisfied: flatbuffers>=23.5.26 in /usr/local/lib/python3.10/dist-packages (from tensorflow) (24.3.25)\n",
            "Requirement already satisfied: gast!=0.5.0,!=0.5.1,!=0.5.2,>=0.2.1 in /usr/local/lib/python3.10/dist-packages (from tensorflow) (0.5.4)\n",
            "Requirement already satisfied: google-pasta>=0.1.1 in /usr/local/lib/python3.10/dist-packages (from tensorflow) (0.2.0)\n",
            "Requirement already satisfied: h5py>=2.9.0 in /usr/local/lib/python3.10/dist-packages (from tensorflow) (3.9.0)\n",
            "Requirement already satisfied: libclang>=13.0.0 in /usr/local/lib/python3.10/dist-packages (from tensorflow) (18.1.1)\n",
            "Requirement already satisfied: ml-dtypes~=0.2.0 in /usr/local/lib/python3.10/dist-packages (from tensorflow) (0.2.0)\n",
            "Requirement already satisfied: numpy<2.0.0,>=1.23.5 in /usr/local/lib/python3.10/dist-packages (from tensorflow) (1.25.2)\n",
            "Requirement already satisfied: opt-einsum>=2.3.2 in /usr/local/lib/python3.10/dist-packages (from tensorflow) (3.3.0)\n",
            "Requirement already satisfied: packaging in /usr/local/lib/python3.10/dist-packages (from tensorflow) (24.0)\n",
            "Requirement already satisfied: protobuf!=4.21.0,!=4.21.1,!=4.21.2,!=4.21.3,!=4.21.4,!=4.21.5,<5.0.0dev,>=3.20.3 in /usr/local/lib/python3.10/dist-packages (from tensorflow) (3.20.3)\n",
            "Requirement already satisfied: setuptools in /usr/local/lib/python3.10/dist-packages (from tensorflow) (67.7.2)\n",
            "Requirement already satisfied: six>=1.12.0 in /usr/local/lib/python3.10/dist-packages (from tensorflow) (1.16.0)\n",
            "Requirement already satisfied: termcolor>=1.1.0 in /usr/local/lib/python3.10/dist-packages (from tensorflow) (2.4.0)\n",
            "Requirement already satisfied: typing-extensions>=3.6.6 in /usr/local/lib/python3.10/dist-packages (from tensorflow) (4.11.0)\n",
            "Requirement already satisfied: wrapt<1.15,>=1.11.0 in /usr/local/lib/python3.10/dist-packages (from tensorflow) (1.14.1)\n",
            "Requirement already satisfied: tensorflow-io-gcs-filesystem>=0.23.1 in /usr/local/lib/python3.10/dist-packages (from tensorflow) (0.36.0)\n",
            "Requirement already satisfied: grpcio<2.0,>=1.24.3 in /usr/local/lib/python3.10/dist-packages (from tensorflow) (1.62.2)\n",
            "Requirement already satisfied: tensorboard<2.16,>=2.15 in /usr/local/lib/python3.10/dist-packages (from tensorflow) (2.15.2)\n",
            "Requirement already satisfied: tensorflow-estimator<2.16,>=2.15.0 in /usr/local/lib/python3.10/dist-packages (from tensorflow) (2.15.0)\n",
            "Requirement already satisfied: keras<2.16,>=2.15.0 in /usr/local/lib/python3.10/dist-packages (from tensorflow) (2.15.0)\n",
            "Requirement already satisfied: wheel<1.0,>=0.23.0 in /usr/local/lib/python3.10/dist-packages (from astunparse>=1.6.0->tensorflow) (0.43.0)\n",
            "Requirement already satisfied: google-auth<3,>=1.6.3 in /usr/local/lib/python3.10/dist-packages (from tensorboard<2.16,>=2.15->tensorflow) (2.27.0)\n",
            "Requirement already satisfied: google-auth-oauthlib<2,>=0.5 in /usr/local/lib/python3.10/dist-packages (from tensorboard<2.16,>=2.15->tensorflow) (1.2.0)\n",
            "Requirement already satisfied: markdown>=2.6.8 in /usr/local/lib/python3.10/dist-packages (from tensorboard<2.16,>=2.15->tensorflow) (3.6)\n",
            "Requirement already satisfied: requests<3,>=2.21.0 in /usr/local/lib/python3.10/dist-packages (from tensorboard<2.16,>=2.15->tensorflow) (2.31.0)\n",
            "Requirement already satisfied: tensorboard-data-server<0.8.0,>=0.7.0 in /usr/local/lib/python3.10/dist-packages (from tensorboard<2.16,>=2.15->tensorflow) (0.7.2)\n",
            "Requirement already satisfied: werkzeug>=1.0.1 in /usr/local/lib/python3.10/dist-packages (from tensorboard<2.16,>=2.15->tensorflow) (3.0.2)\n",
            "Requirement already satisfied: cachetools<6.0,>=2.0.0 in /usr/local/lib/python3.10/dist-packages (from google-auth<3,>=1.6.3->tensorboard<2.16,>=2.15->tensorflow) (5.3.3)\n",
            "Requirement already satisfied: pyasn1-modules>=0.2.1 in /usr/local/lib/python3.10/dist-packages (from google-auth<3,>=1.6.3->tensorboard<2.16,>=2.15->tensorflow) (0.4.0)\n",
            "Requirement already satisfied: rsa<5,>=3.1.4 in /usr/local/lib/python3.10/dist-packages (from google-auth<3,>=1.6.3->tensorboard<2.16,>=2.15->tensorflow) (4.9)\n",
            "Requirement already satisfied: requests-oauthlib>=0.7.0 in /usr/local/lib/python3.10/dist-packages (from google-auth-oauthlib<2,>=0.5->tensorboard<2.16,>=2.15->tensorflow) (1.3.1)\n",
            "Requirement already satisfied: charset-normalizer<4,>=2 in /usr/local/lib/python3.10/dist-packages (from requests<3,>=2.21.0->tensorboard<2.16,>=2.15->tensorflow) (3.3.2)\n",
            "Requirement already satisfied: idna<4,>=2.5 in /usr/local/lib/python3.10/dist-packages (from requests<3,>=2.21.0->tensorboard<2.16,>=2.15->tensorflow) (3.7)\n",
            "Requirement already satisfied: urllib3<3,>=1.21.1 in /usr/local/lib/python3.10/dist-packages (from requests<3,>=2.21.0->tensorboard<2.16,>=2.15->tensorflow) (2.0.7)\n",
            "Requirement already satisfied: certifi>=2017.4.17 in /usr/local/lib/python3.10/dist-packages (from requests<3,>=2.21.0->tensorboard<2.16,>=2.15->tensorflow) (2024.2.2)\n",
            "Requirement already satisfied: MarkupSafe>=2.1.1 in /usr/local/lib/python3.10/dist-packages (from werkzeug>=1.0.1->tensorboard<2.16,>=2.15->tensorflow) (2.1.5)\n",
            "Requirement already satisfied: pyasn1<0.7.0,>=0.4.6 in /usr/local/lib/python3.10/dist-packages (from pyasn1-modules>=0.2.1->google-auth<3,>=1.6.3->tensorboard<2.16,>=2.15->tensorflow) (0.6.0)\n",
            "Requirement already satisfied: oauthlib>=3.0.0 in /usr/local/lib/python3.10/dist-packages (from requests-oauthlib>=0.7.0->google-auth-oauthlib<2,>=0.5->tensorboard<2.16,>=2.15->tensorflow) (3.2.2)\n"
          ]
        }
      ]
    },
    {
      "cell_type": "code",
      "source": [
        "import tensorflow as tf\n",
        "from tensorflow import keras"
      ],
      "metadata": {
        "id": "1Om3cSwyQj3c"
      },
      "execution_count": null,
      "outputs": []
    },
    {
      "cell_type": "code",
      "execution_count": null,
      "metadata": {
        "id": "9JRnqsxEjKsD"
      },
      "outputs": [],
      "source": [
        "from keras.models import Sequential\n",
        "from keras.layers import Dense\n",
        "from keras.layers import LSTM\n",
        "from keras.layers import Dropout\n",
        "from keras import regularizers\n",
        "from tensorflow.keras.callbacks import EarlyStopping"
      ]
    },
    {
      "cell_type": "code",
      "source": [
        "early_stopping = EarlyStopping(monitor='loss', patience=4)"
      ],
      "metadata": {
        "id": "e88RtS89dT_4"
      },
      "execution_count": null,
      "outputs": []
    },
    {
      "cell_type": "markdown",
      "metadata": {
        "id": "FEIE-1s9jNzC"
      },
      "source": [
        "### Initialising the RNN"
      ]
    },
    {
      "cell_type": "code",
      "execution_count": null,
      "metadata": {
        "id": "1338dJ0UjRKH"
      },
      "outputs": [],
      "source": [
        "regressor = Sequential()\n",
        "# regressor is an object of squential class and\n",
        "#represents a sequeance of layers\n"
      ]
    },
    {
      "cell_type": "markdown",
      "metadata": {
        "id": "62eg1OPGjT8z"
      },
      "source": [
        "### Adding the first LSTM layer and some Dropout regularisation"
      ]
    },
    {
      "cell_type": "code",
      "execution_count": null,
      "metadata": {
        "id": "2hIinyXUjbVU"
      },
      "outputs": [],
      "source": [
        "regressor.add(LSTM(units = 32, return_sequences = True, input_shape = (X_train.shape[1], 1), kernel_regularizer = regularizers.l2(0.01)))\n",
        "regressor.add(Dropout(0.3))"
      ]
    },
    {
      "cell_type": "markdown",
      "metadata": {
        "id": "3XBIYLyOjlMx"
      },
      "source": [
        "### Adding a second LSTM layer and some Dropout regularisation"
      ]
    },
    {
      "cell_type": "markdown",
      "metadata": {
        "id": "9ABI6rOIkHhk"
      },
      "source": [
        "### Adding the output layer"
      ]
    },
    {
      "cell_type": "code",
      "execution_count": null,
      "metadata": {
        "id": "aM6R1z4WkME8"
      },
      "outputs": [],
      "source": [
        "regressor.add(Dense(units = 1))"
      ]
    },
    {
      "cell_type": "markdown",
      "metadata": {
        "id": "zLx4K7uUkPSh"
      },
      "source": [
        "### Compiling the RNN"
      ]
    },
    {
      "cell_type": "markdown",
      "source": [],
      "metadata": {
        "id": "dkQn1M0_TRJL"
      }
    },
    {
      "cell_type": "code",
      "source": [
        "learning_rate = 0.0001"
      ],
      "metadata": {
        "id": "6cQIStPETXxs"
      },
      "execution_count": null,
      "outputs": []
    },
    {
      "cell_type": "code",
      "execution_count": null,
      "metadata": {
        "id": "XTrhVN-tkbko"
      },
      "outputs": [],
      "source": [
        "\n",
        "optimizer = tf.keras.optimizers.Adam(learning_rate = learning_rate)\n",
        "regressor.compile(optimizer = optimizer, loss = 'mean_squared_error')"
      ]
    },
    {
      "cell_type": "markdown",
      "metadata": {
        "id": "-mPhwKGkkebi"
      },
      "source": [
        "### Fitting the RNN to the Training set"
      ]
    },
    {
      "cell_type": "code",
      "execution_count": null,
      "metadata": {
        "colab": {
          "base_uri": "https://localhost:8080/"
        },
        "id": "I06Nkrz5kkb-",
        "outputId": "bfb35164-e661-476f-e2c5-45d4fe1f1fc8"
      },
      "outputs": [
        {
          "output_type": "stream",
          "name": "stdout",
          "text": [
            "Epoch 1/20\n",
            "141/141 [==============================] - 7s 35ms/step - loss: 0.0305\n",
            "Epoch 2/20\n",
            "141/141 [==============================] - 4s 26ms/step - loss: 0.0273\n",
            "Epoch 3/20\n",
            "141/141 [==============================] - 4s 26ms/step - loss: 0.0248\n",
            "Epoch 4/20\n",
            "141/141 [==============================] - 5s 33ms/step - loss: 0.0227\n",
            "Epoch 5/20\n",
            "141/141 [==============================] - 4s 30ms/step - loss: 0.0210\n",
            "Epoch 6/20\n",
            "141/141 [==============================] - 4s 27ms/step - loss: 0.0195\n",
            "Epoch 7/20\n",
            "141/141 [==============================] - 4s 30ms/step - loss: 0.0184\n",
            "Epoch 8/20\n",
            "141/141 [==============================] - 5s 33ms/step - loss: 0.0174\n",
            "Epoch 9/20\n",
            "141/141 [==============================] - 4s 28ms/step - loss: 0.0166\n",
            "Epoch 10/20\n",
            "141/141 [==============================] - 4s 31ms/step - loss: 0.0160\n",
            "Epoch 11/20\n",
            "141/141 [==============================] - 4s 31ms/step - loss: 0.0155\n",
            "Epoch 12/20\n",
            "141/141 [==============================] - 4s 26ms/step - loss: 0.0151\n",
            "Epoch 13/20\n",
            "141/141 [==============================] - 4s 26ms/step - loss: 0.0148\n",
            "Epoch 14/20\n",
            "141/141 [==============================] - 5s 34ms/step - loss: 0.0145\n",
            "Epoch 15/20\n",
            "141/141 [==============================] - 4s 26ms/step - loss: 0.0143\n",
            "Epoch 16/20\n",
            "141/141 [==============================] - 4s 26ms/step - loss: 0.0142\n",
            "Epoch 17/20\n",
            "141/141 [==============================] - 5s 33ms/step - loss: 0.0141\n",
            "Epoch 18/20\n",
            "141/141 [==============================] - 4s 26ms/step - loss: 0.0140\n",
            "Epoch 19/20\n",
            "141/141 [==============================] - 4s 26ms/step - loss: 0.0139\n",
            "Epoch 20/20\n",
            "141/141 [==============================] - 5s 32ms/step - loss: 0.0139\n"
          ]
        },
        {
          "output_type": "execute_result",
          "data": {
            "text/plain": [
              "<keras.src.callbacks.History at 0x7b196276e2f0>"
            ]
          },
          "metadata": {},
          "execution_count": 88
        }
      ],
      "source": [
        "regressor.fit(trainifyx, y_train, epochs = 20 , batch_size = 32, callbacks= [early_stopping])"
      ]
    },
    {
      "cell_type": "code",
      "execution_count": null,
      "metadata": {
        "colab": {
          "base_uri": "https://localhost:8080/"
        },
        "id": "IrCJuirWUSeg",
        "outputId": "aa99e232-bff9-4851-9a52-9534d94de6ea"
      },
      "outputs": [
        {
          "output_type": "stream",
          "name": "stdout",
          "text": [
            "141/141 [==============================] - 2s 8ms/step\n"
          ]
        }
      ],
      "source": [
        "train_predict = regressor.predict(trainifyx)"
      ]
    },
    {
      "cell_type": "markdown",
      "source": [],
      "metadata": {
        "id": "aj7zISNzsMFQ"
      }
    },
    {
      "cell_type": "code",
      "source": [
        "test_predict = regressor.predict(testingy)"
      ],
      "metadata": {
        "colab": {
          "base_uri": "https://localhost:8080/"
        },
        "id": "AFthTS3yIRDS",
        "outputId": "4dacc70a-9599-4dd8-a168-eb7885645be6"
      },
      "execution_count": null,
      "outputs": [
        {
          "output_type": "stream",
          "name": "stdout",
          "text": [
            "61/61 [==============================] - 1s 9ms/step\n"
          ]
        }
      ]
    },
    {
      "cell_type": "code",
      "execution_count": null,
      "metadata": {
        "colab": {
          "base_uri": "https://localhost:8080/"
        },
        "id": "RKmYGI9gXLnD",
        "outputId": "52d178ef-4ef3-47cb-ad7e-4ee09ad213e9"
      },
      "outputs": [
        {
          "output_type": "execute_result",
          "data": {
            "text/plain": [
              "array([[[0.01517234],\n",
              "        [0.0156559 ],\n",
              "        [0.01581563],\n",
              "        ...,\n",
              "        [0.01580618],\n",
              "        [0.01581624],\n",
              "        [0.01583586]],\n",
              "\n",
              "       [[0.01515354],\n",
              "        [0.01563596],\n",
              "        [0.01584225],\n",
              "        ...,\n",
              "        [0.01581624],\n",
              "        [0.01583586],\n",
              "        [0.01583418]],\n",
              "\n",
              "       [[0.015141  ],\n",
              "        [0.01566551],\n",
              "        [0.01581782],\n",
              "        ...,\n",
              "        [0.01583586],\n",
              "        [0.01583418],\n",
              "        [0.01582726]],\n",
              "\n",
              "       ...,\n",
              "\n",
              "       [[0.01518086],\n",
              "        [0.01564985],\n",
              "        [0.01583206],\n",
              "        ...,\n",
              "        [0.01580532],\n",
              "        [0.01579714],\n",
              "        [0.01580332]],\n",
              "\n",
              "       [[0.01514414],\n",
              "        [0.01565107],\n",
              "        [0.01581685],\n",
              "        ...,\n",
              "        [0.01579714],\n",
              "        [0.01580332],\n",
              "        [0.015812  ]],\n",
              "\n",
              "       [[0.01515981],\n",
              "        [0.01564156],\n",
              "        [0.01583192],\n",
              "        ...,\n",
              "        [0.01580332],\n",
              "        [0.015812  ],\n",
              "        [0.0158248 ]]], dtype=float32)"
            ]
          },
          "metadata": {},
          "execution_count": 18
        }
      ],
      "source": [
        "train_predict"
      ]
    },
    {
      "cell_type": "code",
      "source": [
        "train_pre = np.reshape(train_predict, (4506, 60))\n",
        "test_pre = np.reshape(test_predict, (1926, 60))\n",
        "rup = train_pre[:, 0]\n",
        "yes = test_pre[:, 0]\n",
        "\n",
        "you = train_pre[4505, :]\n",
        "we= you.reshape(60,1)\n",
        "output = np.append(rup, we)\n",
        "\n",
        "yes2 = test_pre[1925, :]\n",
        "vee = yes2.reshape(60,1)\n",
        "outtest = np.append(yes, vee)"
      ],
      "metadata": {
        "id": "fbVZ4Wy9acSz"
      },
      "execution_count": null,
      "outputs": []
    },
    {
      "cell_type": "code",
      "source": [
        "outtest.shape"
      ],
      "metadata": {
        "colab": {
          "base_uri": "https://localhost:8080/"
        },
        "id": "Ky122c9AWh7q",
        "outputId": "49075f8a-b446-44c6-b0da-0170d1d906e9"
      },
      "execution_count": null,
      "outputs": [
        {
          "output_type": "execute_result",
          "data": {
            "text/plain": [
              "(1986,)"
            ]
          },
          "metadata": {},
          "execution_count": 30
        }
      ]
    },
    {
      "cell_type": "code",
      "source": [
        "df = pd.DataFrame(output)\n",
        "df.to_csv('output2.csv', index=False)\n",
        "testt = pd.DataFrame(outtest)\n",
        "testt.to_csv('testout2.csv', index=False)"
      ],
      "metadata": {
        "id": "gl3jNPFYh3oQ"
      },
      "execution_count": null,
      "outputs": []
    },
    {
      "cell_type": "code",
      "source": [],
      "metadata": {
        "id": "FYqagy0oeBCO"
      },
      "execution_count": null,
      "outputs": []
    },
    {
      "cell_type": "code",
      "source": [
        "\n",
        "plt.plot(output, color = 'red', label = 'training')\n",
        "plt.plot(outtest, color = 'blue', label = 'test')\n",
        "#plt.title('')\n",
        "#plt.xlabel('')\n",
        "#plt.ylabel('')\n",
        "#plt.legend()\n",
        "plt.show()"
      ],
      "metadata": {
        "colab": {
          "base_uri": "https://localhost:8080/",
          "height": 430
        },
        "id": "KDjbFfYYh3h8",
        "outputId": "f2256c0b-5219-49b6-fe70-bf135d9aea0f"
      },
      "execution_count": null,
      "outputs": [
        {
          "output_type": "display_data",
          "data": {
            "text/plain": [
              "<Figure size 640x480 with 1 Axes>"
            ],
            "image/png": "[encoded data removed]"
          },
          "metadata": {}
        }
      ]
    },
    {
      "cell_type": "code",
      "source": [],
      "metadata": {
        "id": "pvk9NadXh3Zz"
      },
      "execution_count": null,
      "outputs": []
    },
    {
      "cell_type": "code",
      "source": [],
      "metadata": {
        "id": "i-DqBFfZh0LN"
      },
      "execution_count": null,
      "outputs": []
    },
    {
      "cell_type": "code",
      "source": [],
      "metadata": {
        "id": "wz2YcZS9dWEJ"
      },
      "execution_count": null,
      "outputs": []
    },
    {
      "cell_type": "code",
      "execution_count": null,
      "metadata": {
        "id": "FOO-TVsdlnNX"
      },
      "outputs": [],
      "source": []
    }
  ],
  "metadata": {
    "colab": {
      "provenance": []
    },
    "kernelspec": {
      "display_name": "Python 3 (ipykernel)",
      "language": "python",
      "name": "python3"
    },
    "language_info": {
      "codemirror_mode": {
        "name": "ipython",
        "version": 3
      },
      "file_extension": ".py",
      "mimetype": "text/x-python",
      "name": "python",
      "nbconvert_exporter": "python",
      "pygments_lexer": "ipython3",
      "version": "3.9.13"
    }
  },
  "nbformat": 4,
  "nbformat_minor": 0
}